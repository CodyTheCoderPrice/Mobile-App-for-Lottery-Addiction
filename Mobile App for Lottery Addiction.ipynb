{
 "cells": [
  {
   "cell_type": "markdown",
   "id": "bdd0642d",
   "metadata": {},
   "source": [
    "# Mobile App for Lottery Addiction\n",
    "In this project, we're contributing to the development of a mobile app that's meant to help prevent lottery addition by showing gamblers their chances of winning.\n",
    "\n",
    "The app is being developed by a medical institue which specializes in treating gambling addition. They already have a team of engineers ready to build the app, but they need us to create the logical core of the app and calculate probablities.\n",
    "\n",
    "The app will be focused on the [6/49 lottery](https://en.wikipedia.org/wiki/Lotto_6/49), where six numbers are drawn from a set of 49, and a player can win a prize by matching two or more numbers on a single ticket. The big prize of 5 million CA$ is awarded to anyone who matches all 6 numbers.\n",
    "\n",
    "Our goal is to build functions that answer the following questions:\n",
    "- What is the probability of winning the big prize with a single ticket?\n",
    "- What is the probability of winning the big prize if we play multiple tickets (example 40 tickets)?\n",
    "- What is the probability of winning a lesser prize by matching between 2 to 5 winning numbers on a single ticket?\n",
    "\n",
    "The scenario we're following throughout this project is fictional — the main purpose is to practice applying probability and combinatorics (permutations and combinations) concepts in a setting that simulates a real-world scenario."
   ]
  },
  {
   "cell_type": "markdown",
   "id": "e8d8f305",
   "metadata": {},
   "source": [
    "## Core Functions\n",
    "We'll start by writing two functions that we'll be using often for calculating factorials and combinations."
   ]
  },
  {
   "cell_type": "code",
   "execution_count": 1,
   "id": "9ce38929",
   "metadata": {},
   "outputs": [],
   "source": [
    "def factorial(n):\n",
    "    final_product = 1\n",
    "    for i in range(n, 0, -1):\n",
    "        final_product *= i\n",
    "    return final_product\n",
    "\n",
    "def combinations(n,k):\n",
    "    return factorial(n)/(factorial(k)*factorial(n-k))"
   ]
  },
  {
   "cell_type": "markdown",
   "id": "749561ac",
   "metadata": {},
   "source": [
    "## One-Ticket Probablity\n",
    "Now, let's wrtie a function to calculate the probability of winning the big prize for any given ticket.\n",
    "\n",
    "For the first version of the app, the engineer team wants players to be able to input the numbers they intend to play and recieve the probability of winning in a friendly way, such that anyone without any probability knowledge can still understand."
   ]
  },
  {
   "cell_type": "code",
   "execution_count": 2,
   "id": "1d0cd6bb",
   "metadata": {},
   "outputs": [],
   "source": [
    "def validate_numbers(user_numbers):\n",
    "    '''Returns whether or not a list contains 6 unique numbers between 1 and 49.\n",
    "    If not, then a message is printed asking the user to try again.\n",
    "    '''\n",
    "    for i in range(len(user_numbers)):\n",
    "        if 1 > user_numbers[i] > 49 or len(set(user_numbers)) != 6:\n",
    "            print('Please insert six different numbers ranging between 1 to 49')\n",
    "            return False\n",
    "        else:\n",
    "            return True\n",
    "\n",
    "def one_ticket_probability(user_numbers):\n",
    "    if validate_numbers(user_numbers):\n",
    "        comb = int(combinations(49, 6))\n",
    "        prob = (1 / comb) * 100\n",
    "        print('''Your chances to win the big prize with the numbers {} are {:.7f}%.\n",
    "In other words, you have a 1 in {:,} chances to win.'''.format(user_numbers, prob, comb))"
   ]
  },
  {
   "cell_type": "markdown",
   "id": "cc7bcf40",
   "metadata": {},
   "source": [
    "Now we will test our function on two different inputs."
   ]
  },
  {
   "cell_type": "code",
   "execution_count": 3,
   "id": "ad16b33f",
   "metadata": {},
   "outputs": [
    {
     "name": "stdout",
     "output_type": "stream",
     "text": [
      "Your chances to win the big prize with the numbers [7, 13, 32, 44, 19, 1] are 0.0000072%.\n",
      "In other words, you have a 1 in 13,983,816 chances to win.\n"
     ]
    }
   ],
   "source": [
    "test_input_1 = [7, 13, 32, 44, 19, 1]\n",
    "one_ticket_probability(test_input_1)"
   ]
  },
  {
   "cell_type": "code",
   "execution_count": 4,
   "id": "802eabc3",
   "metadata": {},
   "outputs": [
    {
     "name": "stdout",
     "output_type": "stream",
     "text": [
      "Your chances to win the big prize with the numbers [29, 6, 31, 10, 17, 18] are 0.0000072%.\n",
      "In other words, you have a 1 in 13,983,816 chances to win.\n"
     ]
    }
   ],
   "source": [
    "test_input_2 = [29, 6, 31, 10, 17, 18]\n",
    "one_ticket_probability(test_input_2)"
   ]
  },
  {
   "cell_type": "code",
   "execution_count": 5,
   "id": "a3719c0b",
   "metadata": {
    "scrolled": true
   },
   "outputs": [
    {
     "name": "stdout",
     "output_type": "stream",
     "text": [
      "Please insert six different numbers ranging between 1 to 49\n"
     ]
    }
   ],
   "source": [
    "invalid_test_input_1 = [1, 2, 3, 4, 5, 6, 7]\n",
    "one_ticket_probability(invalid_test_input_1)"
   ]
  },
  {
   "cell_type": "code",
   "execution_count": 6,
   "id": "a947bb96",
   "metadata": {},
   "outputs": [
    {
     "name": "stdout",
     "output_type": "stream",
     "text": [
      "Please insert six different numbers ranging between 1 to 49\n"
     ]
    }
   ],
   "source": [
    "invalid_test_input_2 = [1, 1, 1, 1, 1, 1]\n",
    "one_ticket_probability(invalid_test_input_2)"
   ]
  },
  {
   "cell_type": "markdown",
   "id": "89a60662",
   "metadata": {},
   "source": [
    "## Historical Data Check for Canada Lottery\n",
    "The next feature of our app will show users whether their numbers would have won in the past by referencing historical lottery data in Canada.\n",
    "\n",
    "We will be using data from the national 6/49 lottery game in Canada. The data set contains historical data for 3,665 drawings, dating from 1982 to 2018 (the data set can be downloaded from [here](https://www.kaggle.com/datasets/datascienceai/lottery-dataset)).\n",
    "\n",
    "First, let's open this dataset and get familiar with it."
   ]
  },
  {
   "cell_type": "code",
   "execution_count": 7,
   "id": "a3f9971e",
   "metadata": {},
   "outputs": [
    {
     "data": {
      "text/plain": [
       "(3665, 11)"
      ]
     },
     "execution_count": 7,
     "metadata": {},
     "output_type": "execute_result"
    }
   ],
   "source": [
    "import pandas as pd\n",
    "\n",
    "lottery_canada = pd.read_csv('649.csv')\n",
    "lottery_canada.shape"
   ]
  },
  {
   "cell_type": "code",
   "execution_count": 8,
   "id": "a298f1a8",
   "metadata": {},
   "outputs": [
    {
     "data": {
      "text/html": [
       "<div>\n",
       "<style scoped>\n",
       "    .dataframe tbody tr th:only-of-type {\n",
       "        vertical-align: middle;\n",
       "    }\n",
       "\n",
       "    .dataframe tbody tr th {\n",
       "        vertical-align: top;\n",
       "    }\n",
       "\n",
       "    .dataframe thead th {\n",
       "        text-align: right;\n",
       "    }\n",
       "</style>\n",
       "<table border=\"1\" class=\"dataframe\">\n",
       "  <thead>\n",
       "    <tr style=\"text-align: right;\">\n",
       "      <th></th>\n",
       "      <th>PRODUCT</th>\n",
       "      <th>DRAW NUMBER</th>\n",
       "      <th>SEQUENCE NUMBER</th>\n",
       "      <th>DRAW DATE</th>\n",
       "      <th>NUMBER DRAWN 1</th>\n",
       "      <th>NUMBER DRAWN 2</th>\n",
       "      <th>NUMBER DRAWN 3</th>\n",
       "      <th>NUMBER DRAWN 4</th>\n",
       "      <th>NUMBER DRAWN 5</th>\n",
       "      <th>NUMBER DRAWN 6</th>\n",
       "      <th>BONUS NUMBER</th>\n",
       "    </tr>\n",
       "  </thead>\n",
       "  <tbody>\n",
       "    <tr>\n",
       "      <th>0</th>\n",
       "      <td>649</td>\n",
       "      <td>1</td>\n",
       "      <td>0</td>\n",
       "      <td>6/12/1982</td>\n",
       "      <td>3</td>\n",
       "      <td>11</td>\n",
       "      <td>12</td>\n",
       "      <td>14</td>\n",
       "      <td>41</td>\n",
       "      <td>43</td>\n",
       "      <td>13</td>\n",
       "    </tr>\n",
       "    <tr>\n",
       "      <th>1</th>\n",
       "      <td>649</td>\n",
       "      <td>2</td>\n",
       "      <td>0</td>\n",
       "      <td>6/19/1982</td>\n",
       "      <td>8</td>\n",
       "      <td>33</td>\n",
       "      <td>36</td>\n",
       "      <td>37</td>\n",
       "      <td>39</td>\n",
       "      <td>41</td>\n",
       "      <td>9</td>\n",
       "    </tr>\n",
       "    <tr>\n",
       "      <th>2</th>\n",
       "      <td>649</td>\n",
       "      <td>3</td>\n",
       "      <td>0</td>\n",
       "      <td>6/26/1982</td>\n",
       "      <td>1</td>\n",
       "      <td>6</td>\n",
       "      <td>23</td>\n",
       "      <td>24</td>\n",
       "      <td>27</td>\n",
       "      <td>39</td>\n",
       "      <td>34</td>\n",
       "    </tr>\n",
       "  </tbody>\n",
       "</table>\n",
       "</div>"
      ],
      "text/plain": [
       "   PRODUCT  DRAW NUMBER  SEQUENCE NUMBER  DRAW DATE  NUMBER DRAWN 1  \\\n",
       "0      649            1                0  6/12/1982               3   \n",
       "1      649            2                0  6/19/1982               8   \n",
       "2      649            3                0  6/26/1982               1   \n",
       "\n",
       "   NUMBER DRAWN 2  NUMBER DRAWN 3  NUMBER DRAWN 4  NUMBER DRAWN 5  \\\n",
       "0              11              12              14              41   \n",
       "1              33              36              37              39   \n",
       "2               6              23              24              27   \n",
       "\n",
       "   NUMBER DRAWN 6  BONUS NUMBER  \n",
       "0              43            13  \n",
       "1              41             9  \n",
       "2              39            34  "
      ]
     },
     "execution_count": 8,
     "metadata": {},
     "output_type": "execute_result"
    }
   ],
   "source": [
    "lottery_canada.head(3)"
   ]
  },
  {
   "cell_type": "code",
   "execution_count": 9,
   "id": "6aee2089",
   "metadata": {},
   "outputs": [
    {
     "data": {
      "text/html": [
       "<div>\n",
       "<style scoped>\n",
       "    .dataframe tbody tr th:only-of-type {\n",
       "        vertical-align: middle;\n",
       "    }\n",
       "\n",
       "    .dataframe tbody tr th {\n",
       "        vertical-align: top;\n",
       "    }\n",
       "\n",
       "    .dataframe thead th {\n",
       "        text-align: right;\n",
       "    }\n",
       "</style>\n",
       "<table border=\"1\" class=\"dataframe\">\n",
       "  <thead>\n",
       "    <tr style=\"text-align: right;\">\n",
       "      <th></th>\n",
       "      <th>PRODUCT</th>\n",
       "      <th>DRAW NUMBER</th>\n",
       "      <th>SEQUENCE NUMBER</th>\n",
       "      <th>DRAW DATE</th>\n",
       "      <th>NUMBER DRAWN 1</th>\n",
       "      <th>NUMBER DRAWN 2</th>\n",
       "      <th>NUMBER DRAWN 3</th>\n",
       "      <th>NUMBER DRAWN 4</th>\n",
       "      <th>NUMBER DRAWN 5</th>\n",
       "      <th>NUMBER DRAWN 6</th>\n",
       "      <th>BONUS NUMBER</th>\n",
       "    </tr>\n",
       "  </thead>\n",
       "  <tbody>\n",
       "    <tr>\n",
       "      <th>3662</th>\n",
       "      <td>649</td>\n",
       "      <td>3589</td>\n",
       "      <td>0</td>\n",
       "      <td>6/13/2018</td>\n",
       "      <td>6</td>\n",
       "      <td>22</td>\n",
       "      <td>24</td>\n",
       "      <td>31</td>\n",
       "      <td>32</td>\n",
       "      <td>34</td>\n",
       "      <td>16</td>\n",
       "    </tr>\n",
       "    <tr>\n",
       "      <th>3663</th>\n",
       "      <td>649</td>\n",
       "      <td>3590</td>\n",
       "      <td>0</td>\n",
       "      <td>6/16/2018</td>\n",
       "      <td>2</td>\n",
       "      <td>15</td>\n",
       "      <td>21</td>\n",
       "      <td>31</td>\n",
       "      <td>38</td>\n",
       "      <td>49</td>\n",
       "      <td>8</td>\n",
       "    </tr>\n",
       "    <tr>\n",
       "      <th>3664</th>\n",
       "      <td>649</td>\n",
       "      <td>3591</td>\n",
       "      <td>0</td>\n",
       "      <td>6/20/2018</td>\n",
       "      <td>14</td>\n",
       "      <td>24</td>\n",
       "      <td>31</td>\n",
       "      <td>35</td>\n",
       "      <td>37</td>\n",
       "      <td>48</td>\n",
       "      <td>17</td>\n",
       "    </tr>\n",
       "  </tbody>\n",
       "</table>\n",
       "</div>"
      ],
      "text/plain": [
       "      PRODUCT  DRAW NUMBER  SEQUENCE NUMBER  DRAW DATE  NUMBER DRAWN 1  \\\n",
       "3662      649         3589                0  6/13/2018               6   \n",
       "3663      649         3590                0  6/16/2018               2   \n",
       "3664      649         3591                0  6/20/2018              14   \n",
       "\n",
       "      NUMBER DRAWN 2  NUMBER DRAWN 3  NUMBER DRAWN 4  NUMBER DRAWN 5  \\\n",
       "3662              22              24              31              32   \n",
       "3663              15              21              31              38   \n",
       "3664              24              31              35              37   \n",
       "\n",
       "      NUMBER DRAWN 6  BONUS NUMBER  \n",
       "3662              34            16  \n",
       "3663              49             8  \n",
       "3664              48            17  "
      ]
     },
     "execution_count": 9,
     "metadata": {},
     "output_type": "execute_result"
    }
   ],
   "source": [
    "lottery_canada.tail(3)"
   ]
  },
  {
   "cell_type": "markdown",
   "id": "a47cdeac",
   "metadata": {},
   "source": [
    "## Function for Historical Data Check\n",
    "Now, we'll write a function to compare any ticket with the historical data, and will output the following:\n",
    "- The number of times the ticket would have won the big prize in the past.\n",
    "- The probablity the ticket will win the big prize on the next drawing."
   ]
  },
  {
   "cell_type": "code",
   "execution_count": 10,
   "id": "54c35dac",
   "metadata": {},
   "outputs": [
    {
     "data": {
      "text/plain": [
       "0    {3, 41, 11, 12, 43, 14}\n",
       "1    {33, 36, 37, 39, 8, 41}\n",
       "2     {1, 6, 39, 23, 24, 27}\n",
       "3     {3, 9, 10, 43, 13, 20}\n",
       "4    {34, 5, 14, 47, 21, 31}\n",
       "dtype: object"
      ]
     },
     "execution_count": 10,
     "metadata": {},
     "output_type": "execute_result"
    }
   ],
   "source": [
    "def extract_numbers(row):\n",
    "    '''Takes a row of the lottery dataframe and returns a set containing all the six \n",
    "    winning numbers'''\n",
    "    return set(row[4:10])\n",
    "\n",
    "winning_numbers = lottery_canada.apply(extract_numbers, axis=1)\n",
    "winning_numbers.head()"
   ]
  },
  {
   "cell_type": "code",
   "execution_count": 11,
   "id": "820ae70e",
   "metadata": {},
   "outputs": [],
   "source": [
    "def check_historical_occurrence(user_numbers, historical_numbers):   \n",
    "    '''\n",
    "    user_numbers: a Python list of 6 numbers from 1 to 49 inclusive\n",
    "    historical numbers: a pandas Series of historical winning numbers\n",
    "    '''\n",
    "    if validate_numbers(user_numbers):\n",
    "        check_occurrence = historical_numbers == set(user_numbers)\n",
    "        n_occurrences = check_occurrence.sum()\n",
    "    \n",
    "        if n_occurrences == 0:\n",
    "            print('''The combination {} has never occured.\n",
    "This doesn't mean it's more likely to occur now.'''.format(user_numbers))\n",
    "        else:\n",
    "            print('The number of times combination {} has occured in the past is {}'.format(user_numbers, n_occurrences))\n",
    "            \n",
    "        one_ticket_probability(user_numbers)"
   ]
  },
  {
   "cell_type": "code",
   "execution_count": 12,
   "id": "e6632f93",
   "metadata": {},
   "outputs": [
    {
     "name": "stdout",
     "output_type": "stream",
     "text": [
      "The combination [14, 27, 3, 31, 12, 44] has never occured.\n",
      "This doesn't mean it's more likely to occur now.\n",
      "Your chances to win the big prize with the numbers [14, 27, 3, 31, 12, 44] are 0.0000072%.\n",
      "In other words, you have a 1 in 13,983,816 chances to win.\n"
     ]
    }
   ],
   "source": [
    "test_input_3 = [14, 27, 3, 31, 12, 44]\n",
    "check_historical_occurrence(test_input_3, winning_numbers)"
   ]
  },
  {
   "cell_type": "code",
   "execution_count": 13,
   "id": "4784ed34",
   "metadata": {},
   "outputs": [
    {
     "name": "stdout",
     "output_type": "stream",
     "text": [
      "The number of times combination [33, 36, 37, 39, 8, 41] has occured in the past is 1\n",
      "Your chances to win the big prize with the numbers [33, 36, 37, 39, 8, 41] are 0.0000072%.\n",
      "In other words, you have a 1 in 13,983,816 chances to win.\n"
     ]
    }
   ],
   "source": [
    "test_input_4 = [33, 36, 37, 39, 8, 41]\n",
    "check_historical_occurrence(test_input_4, winning_numbers)"
   ]
  },
  {
   "cell_type": "markdown",
   "id": "3bdb8ffd",
   "metadata": {},
   "source": [
    "## Multi-ticket Probability\n",
    "Gamblers often play multiple tickets for a single drawing, hoping to significantly increase their chances of winning. So we're going to include a feature allowing them to see the probablity of winning when playing multiple tickets. The idea is that the user can input the number of tickets they intent to play rom 1 to 13,983,816 (the maximum number of different tickets), and our function will tell them the probablity of winning."
   ]
  },
  {
   "cell_type": "code",
   "execution_count": 14,
   "id": "40148982",
   "metadata": {},
   "outputs": [],
   "source": [
    "def multi_ticket_probability(n_tickets):\n",
    "    n_combinations = combinations(49, 6)\n",
    "    probability = (n_tickets / n_combinations) * 100\n",
    "    \n",
    "    if n_tickets == 1:\n",
    "        print('''Your chances to win the big prize with one ticket are {:.6f}%.\n",
    "In other words, you have a 1 in {:,} chances to win.'''.format(probability, int(n_combinations)))\n",
    "    \n",
    "    else:\n",
    "        combinations_simplified = round(n_combinations / n_tickets)   \n",
    "        print('''Your chances to win the big prize with {:,} different tickets are {:.6f}%.\n",
    "In other words, you have a 1 in {:,} chances to win.'''.format(n_tickets, probability,\n",
    "                                                               combinations_simplified))"
   ]
  },
  {
   "cell_type": "code",
   "execution_count": 15,
   "id": "c6730c46",
   "metadata": {},
   "outputs": [
    {
     "name": "stdout",
     "output_type": "stream",
     "text": [
      "Your chances to win the big prize with one ticket are 0.000007%.\n",
      "In other words, you have a 1 in 13,983,816 chances to win.\n",
      "------------------------\n",
      "Your chances to win the big prize with 10 different tickets are 0.000072%.\n",
      "In other words, you have a 1 in 1,398,382 chances to win.\n",
      "------------------------\n",
      "Your chances to win the big prize with 100 different tickets are 0.000715%.\n",
      "In other words, you have a 1 in 139,838 chances to win.\n",
      "------------------------\n",
      "Your chances to win the big prize with 10,000 different tickets are 0.071511%.\n",
      "In other words, you have a 1 in 1,398 chances to win.\n",
      "------------------------\n",
      "Your chances to win the big prize with 1,000,000 different tickets are 7.151124%.\n",
      "In other words, you have a 1 in 14 chances to win.\n",
      "------------------------\n",
      "Your chances to win the big prize with 6,991,908 different tickets are 50.000000%.\n",
      "In other words, you have a 1 in 2 chances to win.\n",
      "------------------------\n",
      "Your chances to win the big prize with 13,983,816 different tickets are 100.000000%.\n",
      "In other words, you have a 1 in 1 chances to win.\n",
      "------------------------\n"
     ]
    }
   ],
   "source": [
    "test_inputs = [1, 10, 100, 10000, 1000000, 6991908, 13983816]\n",
    "\n",
    "for test_input in test_inputs:\n",
    "    multi_ticket_probability(test_input)\n",
    "    print('------------------------') # output delimiter"
   ]
  },
  {
   "cell_type": "markdown",
   "id": "8048fdfb",
   "metadata": {},
   "source": [
    "## Probability of Having Less Winning Numbers\n",
    "In most 6/49 lotteries, there are still smaller prizes for players who match between 2 to 5 numbers on a single draw. Hence, players may be interested in finding the probablity of having two, three, four, or five winning numbers. So we will be writing a function that allows players to enter the amount of winning numbers (between 2 to 5) they desire, and the program will tell them the probablity of matching that many numbers."
   ]
  },
  {
   "cell_type": "code",
   "execution_count": 16,
   "id": "69dd60a0",
   "metadata": {},
   "outputs": [],
   "source": [
    "def probability_less_6(n_winning_numbers):\n",
    "    n_combinations_ticket = combinations(6, n_winning_numbers)\n",
    "    n_combinations_remaining = combinations(43, 6 - n_winning_numbers)\n",
    "    successful_outcomes = n_combinations_ticket * n_combinations_remaining\n",
    "    \n",
    "    n_combinations_total = combinations(49, 6)\n",
    "    probability = successful_outcomes / n_combinations_total\n",
    "    \n",
    "    probability_percentage = probability * 100    \n",
    "    combinations_simplified = round(n_combinations_total/successful_outcomes)    \n",
    "    print('''Your chances of having {} winning numbers with this ticket are {:.6f}%.\n",
    "In other words, you have a 1 in {:,} chances to win.'''.format(n_winning_numbers, probability_percentage,\n",
    "                                                               int(combinations_simplified)))"
   ]
  },
  {
   "cell_type": "code",
   "execution_count": 17,
   "id": "31b41278",
   "metadata": {},
   "outputs": [
    {
     "name": "stdout",
     "output_type": "stream",
     "text": [
      "Your chances of having 2 winning numbers with this ticket are 13.237803%.\n",
      "In other words, you have a 1 in 8 chances to win.\n",
      "--------------------------\n",
      "Your chances of having 3 winning numbers with this ticket are 1.765040%.\n",
      "In other words, you have a 1 in 57 chances to win.\n",
      "--------------------------\n",
      "Your chances of having 4 winning numbers with this ticket are 0.096862%.\n",
      "In other words, you have a 1 in 1,032 chances to win.\n",
      "--------------------------\n",
      "Your chances of having 5 winning numbers with this ticket are 0.001845%.\n",
      "In other words, you have a 1 in 54,201 chances to win.\n",
      "--------------------------\n"
     ]
    }
   ],
   "source": [
    "for test_input in [2, 3, 4, 5]:\n",
    "    probability_less_6(test_input)\n",
    "    print('--------------------------') # output delimiter"
   ]
  },
  {
   "cell_type": "markdown",
   "id": "a41215c1",
   "metadata": {},
   "source": [
    "## Conclusion\n",
    "In this project, we wrote the logic for an application allowing users to see the odds of winning the 6/49 lottery using different strategies, such as playing  one or many tickets, using historical data to see if a combination of numbers has ever won before, and trying to win a smaller prize by getting between 2 to 5 winning numbers. We hope users seeing the low chances of winning a prize will discourage them from gambling. Here are our main takeaways:\n",
    "- The chances to win the big prize with a single ticket are extremely low.\n",
    "- To have relatively high chances of winning the big prize, the player has to buy **a huge amount of tickets**.\n",
    "- The probability of having less winning numbers is still very low."
   ]
  }
 ],
 "metadata": {
  "kernelspec": {
   "display_name": "Python 3 (ipykernel)",
   "language": "python",
   "name": "python3"
  },
  "language_info": {
   "codemirror_mode": {
    "name": "ipython",
    "version": 3
   },
   "file_extension": ".py",
   "mimetype": "text/x-python",
   "name": "python",
   "nbconvert_exporter": "python",
   "pygments_lexer": "ipython3",
   "version": "3.11.5"
  }
 },
 "nbformat": 4,
 "nbformat_minor": 5
}
